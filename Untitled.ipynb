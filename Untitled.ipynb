{
 "cells": [
  {
   "cell_type": "code",
   "execution_count": 47,
   "metadata": {},
   "outputs": [],
   "source": [
    "# https://machinelearningmastery.com/multi-step-time-series-forecasting-with-machine-learning-models-for-household-electricity-consumption/\n",
    "# recursive multi-step forecast with linear algorithms\n",
    "# codigo que uso julian para el paper\n",
    "from math import sqrt\n",
    "from numpy import split\n",
    "from numpy import array\n",
    "from pandas import read_csv\n",
    "from sklearn.metrics import mean_squared_error\n",
    "from matplotlib import pyplot\n",
    "from sklearn.preprocessing import StandardScaler\n",
    "from sklearn.preprocessing import MinMaxScaler\n",
    "from sklearn.preprocessing import LabelEncoder\n",
    "from sklearn.pipeline import Pipeline\n",
    "from sklearn.linear_model import LinearRegression\n",
    "from sklearn.linear_model import Lasso\n",
    "from sklearn.linear_model import Ridge\n",
    "from sklearn.linear_model import ElasticNet\n",
    "from sklearn.linear_model import HuberRegressor\n",
    "from sklearn.linear_model import Lars\n",
    "from sklearn.linear_model import LassoLars\n",
    "from sklearn.linear_model import PassiveAggressiveRegressor\n",
    "from sklearn.linear_model import RANSACRegressor\n",
    "from sklearn.linear_model import SGDRegressor\n",
    "from itertools import chain"
   ]
  },
  {
   "cell_type": "code",
   "execution_count": 76,
   "metadata": {},
   "outputs": [],
   "source": [
    "splitTimeWindow = 8\n",
    "indexLabelColumn = 0\n",
    "\n",
    "# split a univariate dataset into train/test sets\n",
    "def split_dataset(data):\n",
    "\t# split into standard weeks\n",
    "\t# 8736 is the index for the first year\n",
    "\t# on the test dataset is only 24 hs\n",
    "\ttrain = data[0:8736]\n",
    "\ttest = data[8736:8760]\n",
    "\t\n",
    "\t\n",
    "\t#train, test = data[0:-328], data[-328:-6]\n",
    "\t# restructure into windows of 24hs data\n",
    "\ttrain = array(split(train, len(train)/splitTimeWindow))\n",
    "\ttest = array(split(test, len(test)/splitTimeWindow))\n",
    "\treturn train, test\n",
    " \n",
    "# evaluate one or more weekly forecasts against expected values\n",
    "def evaluate_forecasts(actual, predicted):\n",
    "\tscores = list()\n",
    "\t# calculate an RMSE score for each day\n",
    "\tfor i in range(actual.shape[1]):\n",
    "\t\t# calculate mse\n",
    "\t\tmse = mean_squared_error(actual[:, i], predicted[:, i])\n",
    "\t\t# calculate rmse\n",
    "\t\trmse = sqrt(mse)\n",
    "\t\t# store\n",
    "\t\tscores.append(rmse)\n",
    "\t# calculate overall RMSE\n",
    "\ts = 0\n",
    "\tfor row in range(actual.shape[0]):\n",
    "\t\tfor col in range(actual.shape[1]):\n",
    "\t\t\ts += (actual[row, col] - predicted[row, col])**2\n",
    "\tscore = sqrt(s / (actual.shape[0] * actual.shape[1]))\n",
    "\treturn score, scores\n",
    " \n",
    "# summarize scores\n",
    "def summarize_scores(name, score, scores):\n",
    "\ts_scores = ', '.join(['%.1f' % s for s in scores])\n",
    "\tprint('%s: [%.3f] %s' % (name, score, s_scores))\n",
    " \n",
    "# prepare a list of ml models\n",
    "def get_models(models=dict()):\n",
    "\t# linear models\n",
    "\tmodels['lr'] = LinearRegression()\n",
    "\tmodels['lasso'] = Lasso()\n",
    "\tmodels['ridge'] = Ridge()\n",
    "\tmodels['en'] = ElasticNet()\n",
    "\tmodels['huber'] = HuberRegressor()\n",
    "\tmodels['lars'] = Lars()\n",
    "\tmodels['llars'] = LassoLars()\n",
    "\tmodels['pa'] = PassiveAggressiveRegressor(max_iter=1000, tol=1e-3)\n",
    "\tmodels['ranscac'] = RANSACRegressor()\n",
    "\tmodels['sgd'] = SGDRegressor(max_iter=1000, tol=1e-3)\n",
    "\tprint('Defined %d models' % len(models))\n",
    "\treturn models\n",
    " \n",
    "# create a feature preparation pipeline for a model\n",
    "def make_pipeline(model):\n",
    "\tsteps = list()\n",
    "\t# standardization\n",
    "\tsteps.append(('standardize', StandardScaler()))\n",
    "\t# normalization\n",
    "\tsteps.append(('normalize', MinMaxScaler()))\n",
    "\t# the model\n",
    "\tsteps.append(('model', model))\n",
    "\t# create pipeline\n",
    "\tpipeline = Pipeline(steps=steps)\n",
    "\treturn pipeline\n",
    " \n",
    "# make a recursive multi-step forecast\n",
    "def forecast(model, input_x, n_input):\n",
    "\tyhat_sequence = list()\n",
    "\tinput_data = [x for x in input_x]\n",
    "\tfor j in range(splitTimeWindow):\n",
    "\t\t# prepare the input data\n",
    "\t\tX = array(input_data[-n_input:]).reshape(1, n_input)\n",
    "\t\t# make a one-step forecast\n",
    "\t\tyhat = model.predict(X)[0]\n",
    "\t\t# add to the result\n",
    "\t\tyhat_sequence.append(yhat)\n",
    "\t\t# add the prediction to the input\n",
    "\t\tinput_data.append(yhat)\n",
    "\treturn yhat_sequence\n",
    " \n",
    "# convert windows of weekly multivariate data into a series of total power\n",
    "def to_series(data):\n",
    "\t# extract just the total power from each week\n",
    "\t#indexLabelColumn = 0    \n",
    "\tseries = [week[:, indexLabelColumn] for week in data]\n",
    "\t#print(\"series 20\")\n",
    "\t#print(series[0:20])\n",
    "\t# flatten into a single series\n",
    "\tseries = array(series).flatten()\n",
    "\treturn series\n",
    " \n",
    "# convert history into inputs and outputs\n",
    "def to_supervised(history, n_input):\n",
    "\t# convert history to a univariate series\n",
    "\tdata = to_series(history)\n",
    "\tX, y = list(), list()\n",
    "\tix_start = 0\n",
    "\t# step over the entire history one time step at a time\n",
    "\tfor i in range(len(data)):\n",
    "\t\t# define the end of the input sequence\n",
    "\t\tix_end = ix_start + n_input\n",
    "\t\t# ensure we have enough data for this instance\n",
    "\t\tif ix_end < len(data):\n",
    "\t\t\tX.append(data[ix_start:ix_end])\n",
    "\t\t\t#if ix_start == 0:\n",
    "\t\t\t\t#print(\"es cero\")                \n",
    "\t\t\t\t#print(data[ix_start:ix_end])\n",
    "\t\t\ty.append(data[ix_end])\n",
    "\t\t# move along one time step\n",
    "\t\tix_start += 1\n",
    "\treturn array(X), array(y)\n",
    " \n",
    "# fit a model and make a forecast\n",
    "def sklearn_predict(model, history, n_input):\n",
    "\t# prepare data\n",
    "\ttrain_x, train_y = to_supervised(history, n_input)\n",
    "\t# make pipeline\n",
    "\tpipeline = make_pipeline(model)\n",
    "\t# fit the model\n",
    "\tpipeline.fit(train_x, train_y)\n",
    "\t# predict the week, recursively\n",
    "\tyhat_sequence = forecast(pipeline, train_x[-1, :], n_input)\n",
    "\treturn yhat_sequence\n",
    " \n",
    "# evaluate a single model\n",
    "def evaluate_model(model, train, test, n_input):\n",
    "\t# history is a list of weekly data\n",
    "\thistory = [x for x in train]\n",
    "\t# walk-forward validation over each week\n",
    "\tpredictions = list()\n",
    "\tfor i in range(len(test)):\n",
    "\t\t# predict the week\n",
    "\t\tyhat_sequence = sklearn_predict(model, history, n_input)\n",
    "\t\t# store the predictions\n",
    "\t\tpredictions.append(yhat_sequence)\n",
    "\t\t# get real observation and add to history for predicting the next week\n",
    "\t\thistory.append(test[i, :])\n",
    "\tpredictions = array(predictions)\n",
    "\t# evaluate predictions days for each week\n",
    "\tscore, scores = evaluate_forecasts(test[:, :, 0], predictions)\n",
    "\treturn score, scores, predictions\n",
    " "
   ]
  },
  {
   "cell_type": "code",
   "execution_count": 79,
   "metadata": {},
   "outputs": [
    {
     "name": "stdout",
     "output_type": "stream",
     "text": [
      "Defined 10 models\n",
      "lr: [26.528] 12.5, 15.9, 19.8, 23.7, 27.4, 30.9, 34.2, 37.4\n",
      "lasso: [54.925] 21.6, 33.2, 43.2, 51.7, 58.8, 64.8, 69.8, 74.1\n",
      "ridge: [26.940] 12.9, 16.4, 20.3, 24.1, 27.8, 31.3, 34.6, 37.8\n",
      "en: [91.638] 87.9, 89.0, 90.2, 91.2, 92.2, 93.2, 94.1, 95.0\n",
      "huber: [15.874] 10.0, 11.2, 12.8, 14.4, 16.1, 17.9, 19.6, 21.3\n",
      "lars: [26.528] 12.5, 15.9, 19.8, 23.7, 27.4, 30.9, 34.2, 37.4\n",
      "llars: [96.239] 96.2, 96.2, 96.2, 96.2, 96.2, 96.2, 96.2, 96.2\n",
      "pa: [18.080] 10.2, 11.8, 13.7, 15.9, 18.2, 20.6, 23.0, 25.4\n",
      "ranscac: [18.576] 10.3, 12.1, 14.1, 16.4, 18.9, 21.3, 23.7, 25.8\n",
      "sgd: [27.188] 13.3, 16.4, 20.3, 24.2, 28.0, 31.6, 35.0, 38.2\n"
     ]
    },
    {
     "data": {
      "image/png": "[encoded data removed]",
      "text/plain": [
       "<Figure size 432x288 with 1 Axes>"
      ]
     },
     "metadata": {
      "needs_background": "light"
     },
     "output_type": "display_data"
    }
   ],
   "source": [
    "# load dataset\n",
    "dataset = read_csv('/Users/teddy/Downloads/pollution.csv', header=0, index_col=0)\n",
    "values = dataset.values\n",
    "\n",
    "encoder = LabelEncoder()\n",
    "values[:,4] = encoder.fit_transform(values[:,4])\n",
    "# ensure all data is float\n",
    "values = values.astype('float32')\n",
    "\n",
    "# split into train and test\n",
    "train, test = split_dataset(values)\n",
    "# prepare the models to evaluate\n",
    "models = get_models()\n",
    "n_input = splitTimeWindow\n",
    "# evaluate each model\n",
    "#days = ['sun', 'mon', 'tue', 'wed', 'thr', 'fri', 'sat']\n",
    "days = list(range(0,splitTimeWindow))\n",
    "predictions_dict=dict()\n",
    "for name, model in models.items():\n",
    "\t# evaluate and get scores\n",
    "\tscore, scores, predictions = evaluate_model(model, train, test, n_input)\n",
    "\t# summarize scores\n",
    "\tsummarize_scores(name, score, scores)\n",
    "\tpredictions_dict[name]=predictions\n",
    "\t# plot scores\n",
    "\tpyplot.plot(days, scores, marker='o', label=name)\n",
    "# show plot\n",
    "pyplot.legend()\n",
    "pyplot.show()\n",
    "\n"
   ]
  },
  {
   "cell_type": "code",
   "execution_count": null,
   "metadata": {},
   "outputs": [],
   "source": [
    "#values va desde 2010 enero 2 a 2014 dic 31 = 4 anhos completos\n",
    "#train sera los primeros 3 anhos y test los ultimos datos\n",
    "# 2013 termina en la linea 35042 o sea sin el header linea 35041 = 0:35041\n",
    "# 2014 es desde 35041\n",
    "values"
   ]
  },
  {
   "cell_type": "code",
   "execution_count": 80,
   "metadata": {},
   "outputs": [
    {
     "data": {
      "image/png": "[encoded data removed]",
      "text/plain": [
       "<Figure size 800x640 with 1 Axes>"
      ]
     },
     "metadata": {},
     "output_type": "display_data"
    }
   ],
   "source": [
    "test_data = list(chain.from_iterable(test[:, :, indexLabelColumn]))\n",
    "\n",
    "fig=pyplot.figure(figsize=(10, 8), dpi= 80, facecolor='w', edgecolor='k')\n",
    "model_name = 'huber'\n",
    "predict_model = list(chain.from_iterable(predictions_dict[model_name]))\n",
    "pyplot.plot(predict_model,label=model_name)\n",
    "pyplot.plot(test_data,label='test')\n",
    "\n",
    "# show plot\n",
    "pyplot.title('Prediction for ExtraTreesRegressor')\n",
    "pyplot.xlabel(\"Dias (number)\")\n",
    "pyplot.ylabel(\"Agua Util (porcentaje)\")\n",
    "pyplot.legend()\n",
    "pyplot.show()"
   ]
  },
  {
   "cell_type": "code",
   "execution_count": 55,
   "metadata": {},
   "outputs": [
    {
     "data": {
      "text/plain": [
       "array([[129.  , -16.  ,  -4.  , ...,   1.79,   0.  ,   0.  ],\n",
       "       [148.  , -15.  ,  -4.  , ...,   2.68,   0.  ,   0.  ],\n",
       "       [159.  , -11.  ,  -5.  , ...,   3.57,   0.  ,   0.  ],\n",
       "       ...,\n",
       "       [  0.  , -18.  ,  -5.  , ...,  62.14,   0.  ,   0.  ],\n",
       "       [  0.  , -18.  ,  -9.  , ...,  66.16,   0.  ,   0.  ],\n",
       "       [  0.  , -17.  ,  -7.  , ...,  71.08,   0.  ,   0.  ]],\n",
       "      dtype=float32)"
      ]
     },
     "execution_count": 55,
     "metadata": {},
     "output_type": "execute_result"
    }
   ],
   "source": [
    "values[0:(365*24)]"
   ]
  },
  {
   "cell_type": "code",
   "execution_count": null,
   "metadata": {},
   "outputs": [],
   "source": [
    "values[0:(365*24)][0,0]"
   ]
  },
  {
   "cell_type": "code",
   "execution_count": null,
   "metadata": {},
   "outputs": [],
   "source": [
    "dataset.head()"
   ]
  },
  {
   "cell_type": "code",
   "execution_count": null,
   "metadata": {},
   "outputs": [],
   "source": [
    "dataset[0:(365*24)].tail()"
   ]
  },
  {
   "cell_type": "code",
   "execution_count": null,
   "metadata": {},
   "outputs": [],
   "source": [
    "dataset[0:8736]"
   ]
  },
  {
   "cell_type": "code",
   "execution_count": null,
   "metadata": {},
   "outputs": [],
   "source": [
    "dataset[8736:8760]"
   ]
  },
  {
   "cell_type": "code",
   "execution_count": null,
   "metadata": {},
   "outputs": [],
   "source": [
    "values[0:1]"
   ]
  },
  {
   "cell_type": "code",
   "execution_count": null,
   "metadata": {},
   "outputs": [],
   "source": [
    "dd = list(range(0,24))\n",
    "dd"
   ]
  },
  {
   "cell_type": "code",
   "execution_count": null,
   "metadata": {},
   "outputs": [],
   "source": [
    "d"
   ]
  },
  {
   "cell_type": "code",
   "execution_count": 112,
   "metadata": {},
   "outputs": [
    {
     "ename": "NameError",
     "evalue": "name 'null' is not defined",
     "output_type": "error",
     "traceback": [
      "\u001b[0;31m---------------------------------------------------------------------------\u001b[0m",
      "\u001b[0;31mNameError\u001b[0m                                 Traceback (most recent call last)",
      "\u001b[0;32m<ipython-input-112-bb9cf1fe90b8>\u001b[0m in \u001b[0;36m<module>\u001b[0;34m\u001b[0m\n\u001b[1;32m      9\u001b[0m         \u001b[0;34m\"C\"\u001b[0m\u001b[0;34m:\u001b[0m \u001b[0;34m{\u001b[0m\u001b[0;34m\"type\"\u001b[0m\u001b[0;34m:\u001b[0m \u001b[0;34m\"number\"\u001b[0m\u001b[0;34m,\u001b[0m \u001b[0;34m\"default\"\u001b[0m \u001b[0;34m:\u001b[0m \u001b[0;36m1.0\u001b[0m\u001b[0;34m}\u001b[0m\u001b[0;34m,\u001b[0m\u001b[0;34m\u001b[0m\u001b[0;34m\u001b[0m\u001b[0m\n\u001b[1;32m     10\u001b[0m         \u001b[0;34m\"kernel\"\u001b[0m\u001b[0;34m:\u001b[0m \u001b[0;34m{\u001b[0m\u001b[0;34m\"type\"\u001b[0m\u001b[0;34m:\u001b[0m \u001b[0;34m\"string\"\u001b[0m\u001b[0;34m,\u001b[0m \u001b[0;34m\"enum\"\u001b[0m\u001b[0;34m:\u001b[0m \u001b[0;34m[\u001b[0m\u001b[0;34m\"linear\"\u001b[0m\u001b[0;34m,\u001b[0m \u001b[0;34m\"poly\"\u001b[0m\u001b[0;34m,\u001b[0m \u001b[0;34m\"rbf\"\u001b[0m\u001b[0;34m,\u001b[0m \u001b[0;34m\"sigmoid\"\u001b[0m\u001b[0;34m,\u001b[0m \u001b[0;34m\"precomputed\"\u001b[0m\u001b[0;34m]\u001b[0m\u001b[0;34m,\u001b[0m \u001b[0;34m\"default\"\u001b[0m \u001b[0;34m:\u001b[0m \u001b[0;34m\"rbf\"\u001b[0m\u001b[0;34m}\u001b[0m\u001b[0;34m,\u001b[0m\u001b[0;34m\u001b[0m\u001b[0;34m\u001b[0m\u001b[0m\n\u001b[0;32m---> 11\u001b[0;31m         \u001b[0;34m\"degree\"\u001b[0m\u001b[0;34m:\u001b[0m \u001b[0;34m{\u001b[0m\u001b[0;34m\"type\"\u001b[0m\u001b[0;34m:\u001b[0m \u001b[0;34m\"integer\"\u001b[0m\u001b[0;34m,\u001b[0m \u001b[0;34m\"default\"\u001b[0m \u001b[0;34m:\u001b[0m \u001b[0mnull\u001b[0m\u001b[0;34m}\u001b[0m\u001b[0;34m,\u001b[0m\u001b[0;34m\u001b[0m\u001b[0;34m\u001b[0m\u001b[0m\n\u001b[0m\u001b[1;32m     12\u001b[0m         \"gamma\": {\n\u001b[1;32m     13\u001b[0m             \"anyOf\": [\n",
      "\u001b[0;31mNameError\u001b[0m: name 'null' is not defined"
     ]
    }
   ],
   "source": [
    "import json\n",
    "import jsonschema\n",
    "from jsonschema import validate\n",
    "from jsonschema import Draft7Validator\n",
    "\n",
    "input_schema_new = {\n",
    "    \"type\": \"object\",\n",
    "    \"properties\": {\n",
    "        \"C\": {\"type\": \"number\", \"default\" : 1.0},\n",
    "        \"kernel\": {\"type\": \"string\", \"enum\": [\"linear\", \"poly\", \"rbf\", \"sigmoid\", \"precomputed\"], \"default\" : \"rbf\"},\n",
    "        \"degree\": {\"type\": \"integer\", \"default\" : null},\n",
    "        \"gamma\": {\n",
    "            \"anyOf\": [\n",
    "                { \"tysspe\": \"string\", \"enum\": [\"scale\", \"auto\"] },\n",
    "                { \"type\": \"number\" }\n",
    "            ],\n",
    "            \"default\" : \"scale\"\n",
    "        },\n",
    "        \"coef0\": {\"type\": \"string\", \"somesome\" : 11, \"description\": \"some message\"},\n",
    "        \"shrinking\": {\"type\": \"string\"},\n",
    "        \"probability\": {\"type\": \"string\"},\n",
    "        \"tol\": {\"type\": \"string\"},\n",
    "        \"cache_size\": {\"type\": \"string\"},\n",
    "        \"class_weight\": {\"type\": \"string\"},\n",
    "        \"verbose\": {\"type\": \"string\"},\n",
    "        \"max_iter\": {\"type\": \"string\"},\n",
    "        \"decision_function_shape\": {\"type\": \"string\"},\n",
    "        \"break_ties\": {\"type\": \"string\"},\n",
    "        \"random_state\": {\"type\": \"string\"}\n",
    "    },\n",
    "    \"required\": [\"C\"]\n",
    "}\n",
    "\n",
    "v = Draft7Validator(input_schema_new)\n",
    "\n",
    "#v.validate({\"C\" : 11})\n",
    "Draft7Validator.check_schema(input_schema_new)"
   ]
  },
  {
   "cell_type": "code",
   "execution_count": 111,
   "metadata": {},
   "outputs": [
    {
     "name": "stdout",
     "output_type": "stream",
     "text": [
      "True\n",
      "True\n"
     ]
    }
   ],
   "source": [
    "print(v.is_valid({\"C\" : 11, \"gamma\" : 11}))\n",
    "print(v.is_valid({\"C\" : 11, \"gamma\" : 11}))"
   ]
  },
  {
   "cell_type": "code",
   "execution_count": 109,
   "metadata": {},
   "outputs": [],
   "source": [
    "try:\n",
    "   Draft7Validator.check_schema(input_schema_new)\n",
    "except Exception as e:\n",
    "    print(e.message)"
   ]
  },
  {
   "cell_type": "code",
   "execution_count": null,
   "metadata": {},
   "outputs": [],
   "source": []
  }
 ],
 "metadata": {
  "kernelspec": {
   "display_name": "Python 3",
   "language": "python",
   "name": "python3"
  },
  "language_info": {
   "codemirror_mode": {
    "name": "ipython",
    "version": 3
   },
   "file_extension": ".py",
   "mimetype": "text/x-python",
   "name": "python",
   "nbconvert_exporter": "python",
   "pygments_lexer": "ipython3",
   "version": "3.6.8"
  }
 },
 "nbformat": 4,
 "nbformat_minor": 4
}
